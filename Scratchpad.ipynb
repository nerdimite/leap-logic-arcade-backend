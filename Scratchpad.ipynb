{
 "cells": [
  {
   "cell_type": "code",
   "execution_count": 1,
   "metadata": {},
   "outputs": [],
   "source": [
    "from dotenv import load_dotenv\n",
    "\n",
    "load_dotenv()\n",
    "\n",
    "import os"
   ]
  },
  {
   "cell_type": "code",
   "execution_count": 1,
   "metadata": {},
   "outputs": [],
   "source": [
    "from logic_arcade.core.dao.images_dao import ImagesDao\n",
    "\n",
    "images_dao = ImagesDao()"
   ]
  },
  {
   "cell_type": "code",
   "execution_count": null,
   "metadata": {},
   "outputs": [
    {
     "data": {
      "text/plain": [
       "{'success': True, 'timestamp': '2025-04-07T02:29:00.975709+05:30'}"
      ]
     },
     "execution_count": 5,
     "metadata": {},
     "output_type": "execute_result"
    }
   ],
   "source": [
    "# images_dao.add_image(\"Team 1\", \"https://picsum.photos/200/300\", \"A beautiful sunset over a calm ocean\")\n",
    "# images_dao.add_image(\"Team 2\", \"https://picsum.photos/200/300\", \"A beautiful sunset over a calm ocean\")\n",
    "# images_dao.add_image(\"Team 3\", \"https://picsum.photos/200/300\", \"A beautiful sunset over a calm ocean\")\n",
    "# images_dao.add_image(\"Team 4\", \"https://picsum.photos/200/300\", \"A beautiful sunset over a calm ocean\")"
   ]
  },
  {
   "cell_type": "code",
   "execution_count": 2,
   "metadata": {},
   "outputs": [
    {
     "data": {
      "text/plain": [
       "{'success': True, 'votesRemaining': 2}"
      ]
     },
     "execution_count": 2,
     "metadata": {},
     "output_type": "execute_result"
    }
   ],
   "source": [
    "images_dao.vote_on_image(\"Team 1\", \"Team 3\")"
   ]
  },
  {
   "cell_type": "code",
   "execution_count": null,
   "metadata": {},
   "outputs": [],
   "source": []
  }
 ],
 "metadata": {
  "kernelspec": {
   "display_name": "logic-arcade-_mWCvZ4z-py3.12",
   "language": "python",
   "name": "python3"
  },
  "language_info": {
   "codemirror_mode": {
    "name": "ipython",
    "version": 3
   },
   "file_extension": ".py",
   "mimetype": "text/x-python",
   "name": "python",
   "nbconvert_exporter": "python",
   "pygments_lexer": "ipython3",
   "version": "3.12.3"
  }
 },
 "nbformat": 4,
 "nbformat_minor": 2
}
